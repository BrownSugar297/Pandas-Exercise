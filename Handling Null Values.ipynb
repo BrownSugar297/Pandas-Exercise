{
 "cells": [
  {
   "cell_type": "code",
   "execution_count": 76,
   "id": "9ad07fe9-8bc4-4f27-99e8-0a4e4315fd96",
   "metadata": {},
   "outputs": [
    {
     "name": "stdout",
     "output_type": "stream",
     "text": [
      "    EEID      Name gender   salary\n",
      "0  EMP01    ayushi      F      NaN\n",
      "1  EMP02     rohit      M  25000.0\n",
      "2  EMP03  pranjali    NaN  27000.0\n",
      "3  EMP01    ayushi      F  20000.0\n",
      "4  EMP05       NaN      M  25000.0\n",
      "5  EMP06     rohit      M      NaN\n",
      "6  EMP02     rohit      M  25000.0\n"
     ]
    }
   ],
   "source": [
    "import pandas as pd\n",
    "\n",
    "data = pd.read_csv(\"company1.csv\")\n",
    "print(data)"
   ]
  },
  {
   "cell_type": "code",
   "execution_count": 33,
   "id": "db2b57c8-54b1-4e02-82a8-4742f3bea142",
   "metadata": {},
   "outputs": [
    {
     "name": "stdout",
     "output_type": "stream",
     "text": [
      "    EEID   Name  gender  salary\n",
      "0  False  False   False    True\n",
      "1  False  False   False   False\n",
      "2  False  False    True   False\n",
      "3  False  False   False   False\n",
      "4  False   True   False   False\n",
      "5  False  False   False    True\n",
      "6  False  False   False   False\n"
     ]
    }
   ],
   "source": [
    "print(data.isnull())"
   ]
  },
  {
   "cell_type": "code",
   "execution_count": 34,
   "id": "e58f0ca6-b6b3-4169-b701-fab2a63445c8",
   "metadata": {},
   "outputs": [
    {
     "name": "stdout",
     "output_type": "stream",
     "text": [
      "EEID      0\n",
      "Name      1\n",
      "gender    1\n",
      "salary    2\n",
      "dtype: int64\n"
     ]
    }
   ],
   "source": [
    "print(data.isnull().sum())"
   ]
  },
  {
   "cell_type": "code",
   "execution_count": 35,
   "id": "7057c28d-b0d0-4c9c-960c-9aa408ddd190",
   "metadata": {},
   "outputs": [
    {
     "name": "stdout",
     "output_type": "stream",
     "text": [
      "    EEID    Name gender   salary\n",
      "1  EMP02   rohit      M  25000.0\n",
      "3  EMP01  ayushi      F  20000.0\n",
      "6  EMP02   rohit      M  25000.0\n"
     ]
    }
   ],
   "source": [
    "print(data.dropna())"
   ]
  },
  {
   "cell_type": "code",
   "execution_count": 36,
   "id": "5f3c40d5-2ed3-4850-a0b9-feea1faabdb5",
   "metadata": {},
   "outputs": [
    {
     "name": "stdout",
     "output_type": "stream",
     "text": [
      "    EEID      Name gender   salary\n",
      "0  EMP01    ayushi      F      NaN\n",
      "1  EMP02     rohit      M  25000.0\n",
      "2  EMP03  pranjali    NaN  27000.0\n",
      "3  EMP01    ayushi      F  20000.0\n",
      "4  EMP05       NaN      M  25000.0\n",
      "5  EMP06     rohit      M      NaN\n",
      "6  EMP02     rohit      M  25000.0\n"
     ]
    }
   ],
   "source": [
    "print(data)\n"
   ]
  },
  {
   "cell_type": "code",
   "execution_count": 37,
   "id": "3917cd53-c586-4b35-97e0-611111749c6c",
   "metadata": {},
   "outputs": [
    {
     "name": "stdout",
     "output_type": "stream",
     "text": [
      "    EEID      Name gender   salary\n",
      "0  EMP01    ayushi      F    ASHIK\n",
      "1  EMP02     rohit      M  25000.0\n",
      "2  EMP03  pranjali  ASHIK  27000.0\n",
      "3  EMP01    ayushi      F  20000.0\n",
      "4  EMP05     ASHIK      M  25000.0\n",
      "5  EMP06     rohit      M    ASHIK\n",
      "6  EMP02     rohit      M  25000.0\n"
     ]
    }
   ],
   "source": [
    "import numpy as np\n",
    "print(data.replace(np.NaN,\"ASHIK\"))"
   ]
  },
  {
   "cell_type": "code",
   "execution_count": 59,
   "id": "ba57a679-6bfe-4b42-b410-7d02faf1d9c3",
   "metadata": {},
   "outputs": [
    {
     "name": "stdout",
     "output_type": "stream",
     "text": [
      "    EEID      Name gender   salary\n",
      "0  EMP01    ayushi      F     20.0\n",
      "1  EMP02     rohit      M  25000.0\n",
      "2  EMP03  pranjali    NaN  27000.0\n",
      "3  EMP01    ayushi      F  20000.0\n",
      "4  EMP05       NaN      M  25000.0\n",
      "5  EMP06     rohit      M     20.0\n",
      "6  EMP02     rohit      M  25000.0\n"
     ]
    }
   ],
   "source": [
    "print(data)"
   ]
  },
  {
   "cell_type": "code",
   "execution_count": 58,
   "id": "4778fcd3-03de-492a-b0b2-be067683e9e8",
   "metadata": {},
   "outputs": [
    {
     "name": "stdout",
     "output_type": "stream",
     "text": [
      "    EEID      Name gender   salary\n",
      "0  EMP01    ayushi      F     20.0\n",
      "1  EMP02     rohit      M  25000.0\n",
      "2  EMP03  pranjali    NaN  27000.0\n",
      "3  EMP01    ayushi      F  20000.0\n",
      "4  EMP05       NaN      M  25000.0\n",
      "5  EMP06     rohit      M     20.0\n",
      "6  EMP02     rohit      M  25000.0\n"
     ]
    }
   ],
   "source": [
    "data[\"salary\"]= data[\"salary\"].replace(np.nan,20)\n",
    "print(data)"
   ]
  },
  {
   "cell_type": "code",
   "execution_count": 64,
   "id": "287a51bf-a92d-4416-aa61-ae4a442de7a3",
   "metadata": {},
   "outputs": [
    {
     "name": "stdout",
     "output_type": "stream",
     "text": [
      "24400.0\n"
     ]
    }
   ],
   "source": [
    "print(data[\"salary\"].mean())"
   ]
  },
  {
   "cell_type": "code",
   "execution_count": 69,
   "id": "fec11e77-4c6a-4581-9f6c-f47111d7ade1",
   "metadata": {},
   "outputs": [
    {
     "name": "stdout",
     "output_type": "stream",
     "text": [
      "    EEID      Name gender   salary\n",
      "0  EMP01    ayushi      F  24400.0\n",
      "1  EMP02     rohit      M  25000.0\n",
      "2  EMP03  pranjali    NaN  27000.0\n",
      "3  EMP01    ayushi      F  20000.0\n",
      "4  EMP05       NaN      M  25000.0\n",
      "5  EMP06     rohit      M  24400.0\n",
      "6  EMP02     rohit      M  25000.0\n"
     ]
    }
   ],
   "source": [
    "data[\"salary\"]= data[\"salary\"].replace(np.nan,24400)\n",
    "print(data)"
   ]
  },
  {
   "cell_type": "code",
   "execution_count": 67,
   "id": "fe08cc05-9e7c-48c1-9b4e-14e6b85fcbd2",
   "metadata": {},
   "outputs": [
    {
     "name": "stdout",
     "output_type": "stream",
     "text": [
      "24400.0\n"
     ]
    }
   ],
   "source": [
    "print(data[\"salary\"].mean())"
   ]
  },
  {
   "cell_type": "code",
   "execution_count": 80,
   "id": "c5bfbf80-b1a0-4824-81db-b45f7346b1b5",
   "metadata": {},
   "outputs": [
    {
     "name": "stdout",
     "output_type": "stream",
     "text": [
      "    EEID      Name gender   salary\n",
      "0  EMP01    ayushi      F  25000.0\n",
      "1  EMP02     rohit      M  25000.0\n",
      "2  EMP03  pranjali      F  27000.0\n",
      "3  EMP01    ayushi      F  20000.0\n",
      "4  EMP05     rohit      M  25000.0\n",
      "5  EMP06     rohit      M  25000.0\n",
      "6  EMP02     rohit      M  25000.0\n"
     ]
    },
    {
     "name": "stderr",
     "output_type": "stream",
     "text": [
      "C:\\Users\\Ashik\\AppData\\Local\\Temp\\ipykernel_13828\\2754045057.py:1: FutureWarning: DataFrame.fillna with 'method' is deprecated and will raise in a future version. Use obj.ffill() or obj.bfill() instead.\n",
      "  print(data.fillna(method = \"bfill\"))\n"
     ]
    }
   ],
   "source": [
    "print(data.fillna(method = \"bfill\"))"
   ]
  },
  {
   "cell_type": "code",
   "execution_count": 79,
   "id": "c3df7de1-e070-4cfd-9fff-b8c73244d577",
   "metadata": {},
   "outputs": [
    {
     "name": "stdout",
     "output_type": "stream",
     "text": [
      "    EEID      Name gender   salary\n",
      "0  EMP01    ayushi      F      NaN\n",
      "1  EMP02     rohit      M  25000.0\n",
      "2  EMP03  pranjali      M  27000.0\n",
      "3  EMP01    ayushi      F  20000.0\n",
      "4  EMP05    ayushi      M  25000.0\n",
      "5  EMP06     rohit      M  25000.0\n",
      "6  EMP02     rohit      M  25000.0\n"
     ]
    },
    {
     "name": "stderr",
     "output_type": "stream",
     "text": [
      "C:\\Users\\Ashik\\AppData\\Local\\Temp\\ipykernel_13828\\1391920301.py:1: FutureWarning: DataFrame.fillna with 'method' is deprecated and will raise in a future version. Use obj.ffill() or obj.bfill() instead.\n",
      "  print(data.fillna(method = \"ffill\"))\n"
     ]
    }
   ],
   "source": [
    "print(data.fillna(method = \"ffill\"))"
   ]
  },
  {
   "cell_type": "code",
   "execution_count": null,
   "id": "c700f129-aafa-43e3-ad32-97ed0064abd4",
   "metadata": {},
   "outputs": [],
   "source": []
  }
 ],
 "metadata": {
  "kernelspec": {
   "display_name": "Python 3 (ipykernel)",
   "language": "python",
   "name": "python3"
  },
  "language_info": {
   "codemirror_mode": {
    "name": "ipython",
    "version": 3
   },
   "file_extension": ".py",
   "mimetype": "text/x-python",
   "name": "python",
   "nbconvert_exporter": "python",
   "pygments_lexer": "ipython3",
   "version": "3.12.0"
  }
 },
 "nbformat": 4,
 "nbformat_minor": 5
}
