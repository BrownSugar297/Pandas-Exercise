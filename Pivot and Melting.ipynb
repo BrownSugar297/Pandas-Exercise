{
 "cells": [
  {
   "cell_type": "code",
   "execution_count": 28,
   "id": "140d4519-3aaa-4699-95ce-2abf10d9dbf9",
   "metadata": {},
   "outputs": [
    {
     "name": "stdout",
     "output_type": "stream",
     "text": [
      "  Keys  Names Houses\n",
      "0   K1   John    Red\n",
      "1   K2    Ben   Blue\n",
      "2   K1  David  Green\n",
      "3   k2  Peter    Red\n",
      "\n",
      "Names   Ben  David John Peter\n",
      "Keys                         \n",
      "K1      NaN  Green  Red   NaN\n",
      "K2     Blue    NaN  NaN   NaN\n",
      "k2      NaN    NaN  NaN   Red\n"
     ]
    }
   ],
   "source": [
    "import pandas as pd\n",
    "\n",
    "dict = {\"Keys\":[\"K1\",\"K2\",\"K1\",\"k2\"],\n",
    "        \"Names\":[\"John\",\"Ben\",\"David\",\"Peter\"],\n",
    "        \"Houses\":[\"Red\",\"Blue\",\"Green\",\"Red\"]}\n",
    "\n",
    "df = pd.DataFrame(dict)\n",
    "print(df)\n",
    "print()\n",
    "print (df.pivot(index=\"Keys\",columns=\"Names\",values=\"Houses\"))"
   ]
  },
  {
   "cell_type": "code",
   "execution_count": 25,
   "id": "d9f95868-3e96-4bc2-9028-6f0eafb81a26",
   "metadata": {},
   "outputs": [
    {
     "name": "stdout",
     "output_type": "stream",
     "text": [
      "      Houses                   Floors                 \n",
      "Names    Ben  David John Peter    Ben David John Peter\n",
      "Keys                                                  \n",
      "K1       NaN  Green  Red   NaN    NaN   9th  3rd   NaN\n",
      "K2      Blue    NaN  NaN   NaN    8th   NaN  NaN   NaN\n",
      "k2       NaN    NaN  NaN   Red    NaN   NaN  NaN   8th\n"
     ]
    }
   ],
   "source": [
    "import pandas as pd\n",
    "\n",
    "dict1 = {\"Keys\":[\"K1\",\"K2\",\"K1\",\"k2\"],\n",
    "        \"Names\":[\"John\",\"Ben\",\"David\",\"Peter\"],\n",
    "        \"Houses\":[\"Red\",\"Blue\",\"Green\",\"Red\"],\n",
    "        \"Floors\":[\"3rd\",\"8th\",\"9th\",\"8th\"]}\n",
    "\n",
    "df1 = pd.DataFrame(dict1)\n",
    "\n",
    "print(df1.pivot(index=\"Keys\",columns=\"Names\",values=[\"Houses\",\"Floors\"]))"
   ]
  },
  {
   "cell_type": "code",
   "execution_count": 36,
   "id": "dedf4d4c-cab9-43fe-958d-9503fabb5e4a",
   "metadata": {},
   "outputs": [
    {
     "name": "stdout",
     "output_type": "stream",
     "text": [
      "   Names Houses Floors\n",
      "0   John    Red    3rd\n",
      "1    Ben   Blue    8th\n",
      "2  David  Green    9th\n",
      "3  Peter    Red    8th\n",
      "\n",
      "   Names variable  value\n",
      "0   John   Houses    Red\n",
      "1    Ben   Houses   Blue\n",
      "2  David   Houses  Green\n",
      "3  Peter   Houses    Red\n",
      "\n",
      "   Names variable  value\n",
      "0   John   Houses    Red\n",
      "1    Ben   Houses   Blue\n",
      "2  David   Houses  Green\n",
      "3  Peter   Houses    Red\n",
      "4   John   Floors    3rd\n",
      "5    Ben   Floors    8th\n",
      "6  David   Floors    9th\n",
      "7  Peter   Floors    8th\n",
      "\n",
      "   Names   H & F Values\n",
      "0   John  Houses    Red\n",
      "1    Ben  Houses   Blue\n",
      "2  David  Houses  Green\n",
      "3  Peter  Houses    Red\n",
      "4   John  Floors    3rd\n",
      "5    Ben  Floors    8th\n",
      "6  David  Floors    9th\n",
      "7  Peter  Floors    8th\n"
     ]
    }
   ],
   "source": [
    "import pandas as pd\n",
    "\n",
    "dict2 = {\"Names\":[\"John\",\"Ben\",\"David\",\"Peter\"],\n",
    "        \"Houses\":[\"Red\",\"Blue\",\"Green\",\"Red\"],\n",
    "        \"Floors\":[\"3rd\",\"8th\",\"9th\",\"8th\"]}\n",
    "\n",
    "df2 = pd.DataFrame(dict2)\n",
    "print(df2)\n",
    "print()\n",
    "print(pd.melt(df2,id_vars=[\"Names\"],value_vars=[\"Houses\"]))\n",
    "print()\n",
    "print(pd.melt(df2,id_vars=[\"Names\"],value_vars=[\"Houses\",\"Floors\"]))\n",
    "print()\n",
    "print(pd.melt(df2,id_vars=[\"Names\"],value_vars=[\"Houses\",\"Floors\"],var_name=\"H & F\",value_name=\"Values\"))"
   ]
  },
  {
   "cell_type": "code",
   "execution_count": null,
   "id": "da808d84-1ebc-421a-b53d-9b12fd62ec33",
   "metadata": {},
   "outputs": [],
   "source": []
  }
 ],
 "metadata": {
  "kernelspec": {
   "display_name": "Python 3 (ipykernel)",
   "language": "python",
   "name": "python3"
  },
  "language_info": {
   "codemirror_mode": {
    "name": "ipython",
    "version": 3
   },
   "file_extension": ".py",
   "mimetype": "text/x-python",
   "name": "python",
   "nbconvert_exporter": "python",
   "pygments_lexer": "ipython3",
   "version": "3.12.0"
  }
 },
 "nbformat": 4,
 "nbformat_minor": 5
}
