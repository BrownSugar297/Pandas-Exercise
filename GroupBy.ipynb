{
 "cells": [
  {
   "cell_type": "code",
   "execution_count": 3,
   "id": "7d6ded19-02dc-4b62-b18e-172367f34a50",
   "metadata": {},
   "outputs": [
    {
     "name": "stdout",
     "output_type": "stream",
     "text": [
      "       EEID        Full Name                 Job Title  Department  \\\n",
      "0    E02387      Emily Davis                Sr. Manger          IT   \n",
      "1    E04105    Theodore Dinh       Technical Architect          IT   \n",
      "2    E02572     Luna Sanders                  Director     Finance   \n",
      "3    E02832  Penelope Jordan  Computer Systems Manager          IT   \n",
      "4    E01639        Austin Vo               Sr. Analyst     Finance   \n",
      "..      ...              ...                       ...         ...   \n",
      "995  E03094     Wesley Young               Sr. Analyst   Marketing   \n",
      "996  E01909     Lillian Khan                   Analyst     Finance   \n",
      "997  E04398      Oliver Yang                  Director   Marketing   \n",
      "998  E02521      Lily Nguyen               Sr. Analyst     Finance   \n",
      "999  E03545      Sofia Cheng            Vice President  Accounting   \n",
      "\n",
      "              Business Unit  Gender  Ethnicity  Age  Hire Date  Annual Salary  \\\n",
      "0    Research & Development  Female      Black   55 2016-04-08         141604   \n",
      "1             Manufacturing    Male      Asian   59 1997-11-29          99975   \n",
      "2       Speciality Products  Female  Caucasian   50 2006-10-26         163099   \n",
      "3             Manufacturing  Female  Caucasian   26 2019-09-27          84913   \n",
      "4             Manufacturing    Male      Asian   55 1995-11-20          95409   \n",
      "..                      ...     ...        ...  ...        ...            ...   \n",
      "995     Speciality Products    Male  Caucasian   33 2016-09-18          98427   \n",
      "996     Speciality Products  Female      Asian   44 2010-05-31          47387   \n",
      "997     Speciality Products    Male      Asian   31 2019-06-10         176710   \n",
      "998     Speciality Products  Female      Asian   33 2012-01-28          95960   \n",
      "999               Corporate  Female      Asian   63 2020-07-26         216195   \n",
      "\n",
      "     Bonus %        Country       City  Exit Date  \n",
      "0       0.15  United States    Seattle 2021-10-16  \n",
      "1       0.00          China  Chongqing        NaT  \n",
      "2       0.20  United States    Chicago        NaT  \n",
      "3       0.07  United States    Chicago        NaT  \n",
      "4       0.00  United States    Phoenix        NaT  \n",
      "..       ...            ...        ...        ...  \n",
      "995     0.00  United States   Columbus        NaT  \n",
      "996     0.00          China    Chengdu 2018-01-08  \n",
      "997     0.15  United States      Miami        NaT  \n",
      "998     0.00          China    Chengdu        NaT  \n",
      "999     0.31  United States      Miami        NaT  \n",
      "\n",
      "[1000 rows x 14 columns]\n"
     ]
    }
   ],
   "source": [
    "import pandas as pd\n",
    "\n",
    "data = pd.read_excel(\"ESD.xlsx\")\n",
    "print(data)"
   ]
  },
  {
   "cell_type": "code",
   "execution_count": 9,
   "id": "86967505-5e15-4fc1-aa31-3559a9edc56c",
   "metadata": {},
   "outputs": [
    {
     "name": "stdout",
     "output_type": "stream",
     "text": [
      "                 Gender\n",
      "Department             \n",
      "Accounting           96\n",
      "Engineering         158\n",
      "Finance             120\n",
      "Human Resources     125\n",
      "IT                  241\n",
      "Marketing           120\n",
      "Sales               140\n"
     ]
    }
   ],
   "source": [
    "gb = data.groupby(\"Department\").agg({\"Gender\":\"count\"})\n",
    "print(gb)"
   ]
  },
  {
   "cell_type": "code",
   "execution_count": 17,
   "id": "39da9413-d704-43d0-8bd7-9a2e2d4a7fcc",
   "metadata": {},
   "outputs": [
    {
     "name": "stdout",
     "output_type": "stream",
     "text": [
      "                        EEID\n",
      "Department      Gender      \n",
      "Accounting      Female    53\n",
      "                Male      43\n",
      "Engineering     Female    80\n",
      "                Male      78\n",
      "Finance         Female    69\n",
      "                Male      51\n",
      "Human Resources Female    64\n",
      "                Male      61\n",
      "IT              Female   119\n",
      "                Male     122\n",
      "Marketing       Female    57\n",
      "                Male      63\n",
      "Sales           Female    76\n",
      "                Male      64\n"
     ]
    }
   ],
   "source": [
    "GB = data.groupby([\"Department\",\"Gender\"]).agg({\"EEID\":\"count\"})\n",
    "print(GB)                        #department = job title"
   ]
  },
  {
   "cell_type": "code",
   "execution_count": 20,
   "id": "e36fa1ff-bade-4c86-a955-972f7dff788a",
   "metadata": {},
   "outputs": [
    {
     "name": "stdout",
     "output_type": "stream",
     "text": [
      "                     Age\n",
      "Country                 \n",
      "Brazil         43.654676\n",
      "China          45.389908\n",
      "United States  44.197512\n"
     ]
    }
   ],
   "source": [
    "gb1 = data.groupby(\"Country\").agg({\"Age\":\"mean\"})\n",
    "print(gb1)"
   ]
  },
  {
   "cell_type": "code",
   "execution_count": 23,
   "id": "dd32d0fc-52e9-49de-a4e5-47b0c48ecb4d",
   "metadata": {},
   "outputs": [
    {
     "name": "stdout",
     "output_type": "stream",
     "text": [
      "               Annual Salary\n",
      "Country                     \n",
      "Brazil                258426\n",
      "China                 257194\n",
      "United States         258498\n"
     ]
    }
   ],
   "source": [
    "gb2 = data.groupby(\"Country\").agg({\"Annual Salary\":\"max\"})\n",
    "print(gb2)"
   ]
  },
  {
   "cell_type": "code",
   "execution_count": 30,
   "id": "3d07860c-b345-4aa7-a9c2-894a0216c326",
   "metadata": {},
   "outputs": [
    {
     "name": "stdout",
     "output_type": "stream",
     "text": [
      "                      Annual Salary\n",
      "Country       Gender               \n",
      "Brazil        Female  111343.733333\n",
      "              Male    113474.562500\n",
      "China         Female  113904.908257\n",
      "              Male    113742.155963\n",
      "United States Female  112012.964072\n",
      "              Male    114493.051780\n"
     ]
    }
   ],
   "source": [
    "gb3 = data.groupby([\"Country\",\"Gender\"]).agg({\"Annual Salary\":\"mean\"})\n",
    "print(gb3)"
   ]
  },
  {
   "cell_type": "code",
   "execution_count": 32,
   "id": "2227da02-7dfe-4dae-9e30-63d62bece0e3",
   "metadata": {},
   "outputs": [
    {
     "name": "stdout",
     "output_type": "stream",
     "text": [
      "                      Annual Salary  Age\n",
      "Country       Gender                    \n",
      "Brazil        Female          44735   25\n",
      "              Male            40316   26\n",
      "China         Female          46833   25\n",
      "              Male            41728   25\n",
      "United States Female          40124   25\n",
      "              Male            40063   25\n"
     ]
    }
   ],
   "source": [
    "gb4 = data.groupby([\"Country\",\"Gender\"]).agg({\"Annual Salary\":\"min\",\"Age\":\"min\"})\n",
    "print(gb4)"
   ]
  }
 ],
 "metadata": {
  "kernelspec": {
   "display_name": "Python 3 (ipykernel)",
   "language": "python",
   "name": "python3"
  },
  "language_info": {
   "codemirror_mode": {
    "name": "ipython",
    "version": 3
   },
   "file_extension": ".py",
   "mimetype": "text/x-python",
   "name": "python",
   "nbconvert_exporter": "python",
   "pygments_lexer": "ipython3",
   "version": "3.12.0"
  }
 },
 "nbformat": 4,
 "nbformat_minor": 5
}
