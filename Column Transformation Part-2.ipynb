{
 "cells": [
  {
   "cell_type": "code",
   "execution_count": 16,
   "id": "51bf70ab-10f6-4609-b095-e57729aa9f79",
   "metadata": {},
   "outputs": [
    {
     "name": "stdout",
     "output_type": "stream",
     "text": [
      "  First Name  Last Name       Salary EEID\n",
      "0       ross  tribbiani        20000   E1\n",
      "1     rachel       bing        40000   E2\n",
      "2     monica      green        25000   E7\n",
      "3       joey     geller        60000   E8\n",
      "4   chandler     buffay        33000   E4\n",
      "5     phoebe       bing        45000   E5\n"
     ]
    }
   ],
   "source": [
    "import pandas as pd\n",
    "\n",
    "data = pd.read_excel(\"Book1.xlsx\")\n",
    "\n",
    "\n",
    "print(data)"
   ]
  },
  {
   "cell_type": "code",
   "execution_count": 52,
   "id": "53137ba3-366b-48ce-9029-fa4e92642407",
   "metadata": {},
   "outputs": [
    {
     "name": "stdout",
     "output_type": "stream",
     "text": [
      "     Months\n",
      "0   January\n",
      "1  February\n",
      "2     March\n",
      "3     April\n"
     ]
    }
   ],
   "source": [
    "data = {\"Months\":[\"January\",\"February\",\"March\",\"April\"]}\n",
    "\n",
    "a = pd.DataFrame(data)\n",
    "print(a)\n",
    "\n",
    "\n"
   ]
  },
  {
   "cell_type": "code",
   "execution_count": 53,
   "id": "9dc035e7-cb18-4f41-89bf-6b2e3b678e41",
   "metadata": {},
   "outputs": [
    {
     "name": "stdout",
     "output_type": "stream",
     "text": [
      "     Months Short_months\n",
      "0   January          Jan\n",
      "1  February          Feb\n",
      "2     March          Mar\n",
      "3     April          Apr\n"
     ]
    }
   ],
   "source": [
    "def extract(value):\n",
    "    return value[0:3]\n",
    "\n",
    "\n",
    "a[\"Short_months\"] = a[\"Months\"].map(extract)\n",
    "print(a)\n"
   ]
  },
  {
   "cell_type": "code",
   "execution_count": null,
   "id": "7cce0fd6-30c7-4b24-a298-bb29b8a91687",
   "metadata": {},
   "outputs": [],
   "source": []
  }
 ],
 "metadata": {
  "kernelspec": {
   "display_name": "Python 3 (ipykernel)",
   "language": "python",
   "name": "python3"
  },
  "language_info": {
   "codemirror_mode": {
    "name": "ipython",
    "version": 3
   },
   "file_extension": ".py",
   "mimetype": "text/x-python",
   "name": "python",
   "nbconvert_exporter": "python",
   "pygments_lexer": "ipython3",
   "version": "3.12.0"
  }
 },
 "nbformat": 4,
 "nbformat_minor": 5
}
