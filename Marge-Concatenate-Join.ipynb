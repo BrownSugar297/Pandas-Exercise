{
 "cells": [
  {
   "cell_type": "code",
   "execution_count": 12,
   "id": "30a9aa14-6180-4ad7-83dc-1edf7b9686c6",
   "metadata": {},
   "outputs": [
    {
     "name": "stdout",
     "output_type": "stream",
     "text": [
      "  EEID    Name  Age\n",
      "0  E01  Rojoni   23\n",
      "1  E02   Ashik   22\n",
      "2  E03    Adib   15\n",
      "3  E04  Ayesha   40\n",
      "4  E05    Raju   52\n",
      "5  E06   Bunny    1\n",
      "\n",
      "  EEID  Salary\n",
      "0  E01   45000\n",
      "1  E02   56000\n",
      "2  E03   34000\n",
      "3  E04   30000\n",
      "4  E05   50000\n",
      "5  E06     100\n"
     ]
    }
   ],
   "source": [
    "import pandas as pd\n",
    "\n",
    "data1 = {\"EEID\":[\"E01\",\"E02\",\"E03\",\"E04\",\"E05\",\"E06\"],\n",
    "         \"Name\":[\"Rojoni\",\"Ashik\",\"Adib\",\"Ayesha\",\"Raju\",\"Bunny\"],\n",
    "         \"Age\":[23,22,15,40,52,1]}\n",
    "\n",
    "data2 =  {\"EEID\":[\"E01\",\"E02\",\"E03\",\"E04\",\"E05\",\"E06\"],\n",
    "          \"Salary\":[45000,56000,34000,30000,50000,100]}\n",
    "df1 = pd.DataFrame(data1)\n",
    "print(df1)\n",
    "print()\n",
    "df2 = pd.DataFrame(data2)\n",
    "print(df2)"
   ]
  },
  {
   "cell_type": "code",
   "execution_count": 15,
   "id": "f32368d7-1436-4012-ad96-215e010b9a34",
   "metadata": {},
   "outputs": [
    {
     "name": "stdout",
     "output_type": "stream",
     "text": [
      "  EEID    Name  Age  Salary\n",
      "0  E01  Rojoni   23   45000\n",
      "1  E02   Ashik   22   56000\n",
      "2  E03    Adib   15   34000\n",
      "3  E04  Ayesha   40   30000\n",
      "4  E05    Raju   52   50000\n",
      "5  E06   Bunny    1     100\n"
     ]
    }
   ],
   "source": [
    "# Marge\n",
    "\n",
    "print(pd.merge(df1,df2,on = \"EEID\"))\n"
   ]
  },
  {
   "cell_type": "code",
   "execution_count": 17,
   "id": "80efc6dd-5676-42bd-b903-be3f028fab45",
   "metadata": {},
   "outputs": [
    {
     "name": "stdout",
     "output_type": "stream",
     "text": [
      "  EEID    Name  Age\n",
      "0  E01  Rojoni   23\n",
      "1  E02   Ashik   22\n",
      "2  E03    Adib   15\n",
      "3  E04  Ayesha   40\n",
      "4  E05    Raju   52\n",
      "5  E06   Bunny    1\n",
      "\n",
      "  EEID  Salary\n",
      "0  E01   45000\n",
      "1  E07   56000\n",
      "2  E03   34000\n",
      "3  E04   30000\n",
      "4  E08   50000\n",
      "5  E06     100\n"
     ]
    }
   ],
   "source": [
    "import pandas as pd\n",
    "\n",
    "data3 = {\"EEID\":[\"E01\",\"E02\",\"E03\",\"E04\",\"E05\",\"E06\"],\n",
    "         \"Name\":[\"Rojoni\",\"Ashik\",\"Adib\",\"Ayesha\",\"Raju\",\"Bunny\"],\n",
    "         \"Age\":[23,22,15,40,52,1]}\n",
    "\n",
    "data4 =  {\"EEID\":[\"E01\",\"E07\",\"E03\",\"E04\",\"E08\",\"E06\"],\n",
    "          \"Salary\":[45000,56000,34000,30000,50000,100]}\n",
    "df3 = pd.DataFrame(data3)\n",
    "print(df3)\n",
    "print()\n",
    "df4 = pd.DataFrame(data4)\n",
    "print(df4)"
   ]
  },
  {
   "cell_type": "code",
   "execution_count": 22,
   "id": "99538563-b2f2-4167-8035-09c5bfd82a24",
   "metadata": {},
   "outputs": [
    {
     "name": "stdout",
     "output_type": "stream",
     "text": [
      "  EEID    Name  Age  Salary\n",
      "0  E01  Rojoni   23   45000\n",
      "1  E03    Adib   15   34000\n",
      "2  E04  Ayesha   40   30000\n",
      "3  E06   Bunny    1     100\n"
     ]
    }
   ],
   "source": [
    "print(pd.merge(df3, df4,on = \"EEID\"))"
   ]
  },
  {
   "cell_type": "code",
   "execution_count": 23,
   "id": "4177ce54-fefd-410f-99b7-7af5d79c7f96",
   "metadata": {},
   "outputs": [
    {
     "name": "stdout",
     "output_type": "stream",
     "text": [
      "  EEID    Name  Age   Salary\n",
      "0  E01  Rojoni   23  45000.0\n",
      "1  E02   Ashik   22      NaN\n",
      "2  E03    Adib   15  34000.0\n",
      "3  E04  Ayesha   40  30000.0\n",
      "4  E05    Raju   52      NaN\n",
      "5  E06   Bunny    1    100.0\n"
     ]
    }
   ],
   "source": [
    "print(pd.merge(left = df3, right = df4,on = \"EEID\" , how = \"left\"))"
   ]
  },
  {
   "cell_type": "code",
   "execution_count": 25,
   "id": "94bbc942-46e3-4149-b691-34902589df15",
   "metadata": {},
   "outputs": [
    {
     "name": "stdout",
     "output_type": "stream",
     "text": [
      "  EEID    Name   Age  Salary\n",
      "0  E01  Rojoni  23.0   45000\n",
      "1  E07     NaN   NaN   56000\n",
      "2  E03    Adib  15.0   34000\n",
      "3  E04  Ayesha  40.0   30000\n",
      "4  E08     NaN   NaN   50000\n",
      "5  E06   Bunny   1.0     100\n"
     ]
    }
   ],
   "source": [
    "print(pd.merge(left = df3, right = df4,on = \"EEID\" , how = \"right\"))"
   ]
  },
  {
   "cell_type": "code",
   "execution_count": 32,
   "id": "443f6131-2697-4c59-a650-b303c8746c70",
   "metadata": {},
   "outputs": [
    {
     "name": "stdout",
     "output_type": "stream",
     "text": [
      "  EEID    Name  Age\n",
      "0  E01  Rojoni   23\n",
      "1  E02   Ashik   22\n",
      "2  E03    Adib   15\n",
      "3  E04  Ayesha   40\n",
      "4  E05    Raju   52\n",
      "5  E06   Bunny    1\n",
      "\n",
      "  EEID  Name  Age\n",
      "0  E07  Pigi   23\n",
      "1  E08  King   22\n",
      "2  E09  Honu   15\n",
      "3  E10   Mom   40\n",
      "4  E11   Dad   52\n",
      "5  E12   Cat    1\n"
     ]
    }
   ],
   "source": [
    "# Concatenate\n",
    "\n",
    "import pandas as pd\n",
    "\n",
    "data5 = {\"EEID\":[\"E01\",\"E02\",\"E03\",\"E04\",\"E05\",\"E06\"],\n",
    "         \"Name\":[\"Rojoni\",\"Ashik\",\"Adib\",\"Ayesha\",\"Raju\",\"Bunny\"],\n",
    "         \"Age\":[23,22,15,40,52,1]}\n",
    "data6 = {\"EEID\":[\"E07\",\"E08\",\"E09\",\"E10\",\"E11\",\"E12\"],\n",
    "         \"Name\":[\"Pigi\",\"King\",\"Honu\",\"Mom\",\"Dad\",\"Cat\"],\n",
    "         \"Age\":[23,22,15,40,52,1]}\n",
    "\n",
    "df5 = pd.DataFrame(data5)\n",
    "print(df5)\n",
    "print()\n",
    "df6 = pd.DataFrame(data6)\n",
    "print(df6)\n",
    "\n",
    "\n",
    "\n"
   ]
  },
  {
   "cell_type": "code",
   "execution_count": 30,
   "id": "9e53fe89-a96c-4dc7-97b6-e7c0290e4c9d",
   "metadata": {},
   "outputs": [
    {
     "name": "stdout",
     "output_type": "stream",
     "text": [
      "  EEID    Name  Age\n",
      "0  E01  Rojoni   23\n",
      "1  E02   Ashik   22\n",
      "2  E03    Adib   15\n",
      "3  E04  Ayesha   40\n",
      "4  E05    Raju   52\n",
      "5  E06   Bunny    1\n",
      "0  E07    Pigi   23\n",
      "1  E08    King   22\n",
      "2  E09    Honu   15\n",
      "3  E10     Mom   40\n",
      "4  E11     Dad   52\n",
      "5  E12     Cat    1\n"
     ]
    }
   ],
   "source": [
    "print(pd.concat([df5,df6]))"
   ]
  }
 ],
 "metadata": {
  "kernelspec": {
   "display_name": "Python 3 (ipykernel)",
   "language": "python",
   "name": "python3"
  },
  "language_info": {
   "codemirror_mode": {
    "name": "ipython",
    "version": 3
   },
   "file_extension": ".py",
   "mimetype": "text/x-python",
   "name": "python",
   "nbconvert_exporter": "python",
   "pygments_lexer": "ipython3",
   "version": "3.12.0"
  }
 },
 "nbformat": 4,
 "nbformat_minor": 5
}
